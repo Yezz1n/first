{
  "nbformat": 4,
  "nbformat_minor": 0,
  "metadata": {
    "colab": {
      "provenance": [],
      "authorship_tag": "ABX9TyOPz3ocsuN2gQBp3fC45yML",
      "include_colab_link": true
    },
    "kernelspec": {
      "name": "python3",
      "display_name": "Python 3"
    },
    "language_info": {
      "name": "python"
    }
  },
  "cells": [
    {
      "cell_type": "markdown",
      "metadata": {
        "id": "view-in-github",
        "colab_type": "text"
      },
      "source": [
        "<a href=\"https://colab.research.google.com/github/Yezz1n/first/blob/main/BUSAN.ipynb\" target=\"_parent\"><img src=\"https://colab.research.google.com/assets/colab-badge.svg\" alt=\"Open In Colab\"/></a>"
      ]
    },
    {
      "cell_type": "markdown",
      "source": [
        "\n",
        "\n",
        "- 찾아본 데이터\n",
        "\n",
        "[링크 텍스트](https://datalab.visitkorea.or.kr/datalab/portal/loc/getAreaDataForm.do?SGG_CD=26)\n",
        "- 얘네는 데이터셋이 아님\n",
        "\n",
        "- 관광데이터랩의 신용카드 데이터 \n",
        "  - 신용카드 데이터 통해서 시티투어 활용해서 도장깨기 처럼 해서 선물 제공(?)\n",
        "    - 이왕이면 특산품\n",
        "    - 내국인 기장/해운대 가장 많고 영도 가장 낮음\n",
        "    - 낮은 곳 위주로 코스 깨는 형식으로\n",
        "    - 이미 사람들은 해운대/광안대교/기장 같은 대표적인 장소에 많이 방문함\n",
        "- 네비게이션 데이터 \n",
        "  - 1,2,3 월 가장 방문횟수 낮다\n",
        "[링크 텍스트](https://www.data.go.kr/data/15096733/fileData.do)\n",
        "  - 부산관광시설들 중 일부와 제휴 맺어 편의시설+할인혜택 제공(목적 부합하는)\n",
        "\n",
        "- [링크 텍스트](https://www.culture.go.kr/bigdata/user/data_market/list.do?dataCookieYn=N)\n",
        "  - 여행관심도 파악 (이건 부산 관련 사람이 적어서 의미가 없을지두...)\n",
        "\n"
      ],
      "metadata": {
        "id": "9Yy9WgFuZbp5"
      }
    },
    {
      "cell_type": "markdown",
      "source": [
        "■ 부산/울산\n",
        "\n",
        "♣ 신공항, 엑스포 의지 담아 부산시 ‘3+2 경제정책’ 추진\n",
        "\n",
        "  ○ 부산시, 1.10(월) 비상경제대책회의에서 부산 경제 활력 제고를 위한 ‘3+2 경제정책’ 발표. 동 정책은 3개 방향(▲활력 회복 민생경제 ▲제질 개선 혁신경제 ▲기회 창출 역동경제) 및 2개 방향(▲2030세계박람회 유치 ▲가덕신공항 조기 건설)을 함께 추진한다는 의지를 담음 (*관광 유관 정책방향 : ▲기회 창출 역동경제)\n",
        "\n",
        "  ○ 관련하여 시는 일·삶·쉼이 하나가 되는 관광도시 조성을 위해 아르떼뮤지엄 상반기 개관, 워케이션 기반 체류형 관광 활성화, 벡스코 제3전시장 건립을 진행함. 또한 2030세계박람회 유치를 위해 4월 국제박람회기구 현지 실사, 경쟁 PT, 회원국 교섭홍보 등 범국가적 유치 활동 추진 예정\n",
        "\n",
        " \n",
        "\n",
        "    출처 : 국제신문, http://www.kookje.co.kr/news2011/asp/newsbody.asp?code=0200&key=20230111.22010003123\n",
        "\n",
        " \n",
        "\n",
        "♣ HS애드, 부산관광 홍보영상 조회수 4,400만 돌파\n",
        "\n",
        "  ○ 부산관광공사/HS애드가 함께 제작한 부산 관광 홍보영상 “The Moon Rabbits in Busan’이 공개 한 달 만에 유튜브 조회수 4,400만 돌파\n",
        "\n",
        "  ○ 동 영상은 달토끼 듀오가 광안대교, 요트경기강, 아홉산숲 등 부산 명소를 방문하여 ‘즐기고, 일하고, 살고 싶은 도시’ 부산의 다채로운 반전 매력을 담아내었으며, 1984년 제정된 부산찬가를 영상 배경음악으로 사용하여 레트로 감성과 역동성을 선사하였음\n",
        "\n",
        " \n",
        "\n",
        "    출처 : 아시아경제, https://view.asiae.co.kr/article/2023010910571876308\n",
        "\n",
        " \n",
        "\n",
        "♣ 이순걸 울주군수, 영남알프스에 환경친화형 케이블카 추진(1.9)\n",
        "\n",
        "  ○ 이순걸 울주군수, 1.9(월) 연합뉴스와 영남알프스 케이블카 설치, 세계산악영화제 울산시 공동개최 등 주제로 신년인터뷰 진행\n",
        "\n",
        "  ○ 세부 내용은 다음과 같음 : ▲(영남알프스 케이블카 사업) ‘22.10월 특수목적법인 ’영남알프스 케이블카‘와 실시협약 체결 후 ’25년 준공 목표로 기본설계 및 환경영향평가 용역 진행 중. 친환경 공법 적용·환경단체 협의를 통해 자연환경 보전/개발 상생 모델로 사업 추진 예정 ▲(세계산악영화제) 기존 울주군 단독 운영 세계산악영화제를 시와 공동 개최 추진하여 장소 제약 해소 등 발전 계기 마련. 또한 울산시 지원 기반 클라이밍 대회 연계 등 ‘산악대축전’으로 확대 고려 ▲(산악관광 활성화) 배내골 일원 산악관광 거점센터 조성 구상, 영남알프스 완등 인증사업/세계산악영화제/트레일러닝대회 개최를 통해 시너지 효과 극대화 ▲(체류형 관광 인프라 육성 등) 해양관광단지 지정 및 레저시설 조성, 반구대암각화 등 문화재 활용 관광활성화 방안 강구 예정\n",
        "\n",
        " \n",
        "\n",
        "    출처 : 연합뉴스, https://www.yna.co.kr/view/AKR20230106056700057?input=1195m"
      ],
      "metadata": {
        "id": "Lr2YVPWTNIUk"
      }
    },
    {
      "cell_type": "code",
      "execution_count": null,
      "metadata": {
        "id": "gPgPJKwnZXFf"
      },
      "outputs": [],
      "source": []
    }
  ]
}
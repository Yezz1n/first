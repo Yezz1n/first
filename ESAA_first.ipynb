{
  "nbformat": 4,
  "nbformat_minor": 0,
  "metadata": {
    "colab": {
      "provenance": [],
      "collapsed_sections": [],
      "authorship_tag": "ABX9TyMhIcIUNU/mEuHbhr25QpwO",
      "include_colab_link": true
    },
    "kernelspec": {
      "name": "python3",
      "display_name": "Python 3"
    },
    "language_info": {
      "name": "python"
    }
  },
  "cells": [
    {
      "cell_type": "markdown",
      "metadata": {
        "id": "view-in-github",
        "colab_type": "text"
      },
      "source": [
        "<a href=\"https://colab.research.google.com/github/Yezz1n/first/blob/main/ESAA_first.ipynb\" target=\"_parent\"><img src=\"https://colab.research.google.com/assets/colab-badge.svg\" alt=\"Open In Colab\"/></a>"
      ]
    },
    {
      "cell_type": "markdown",
      "source": [
        "# 머신러닝:\n",
        "애플리케이션 수정하지 않고도 데이터 기반으로 패턴 학습 후 결과 예측하는 알고리즘 기법\n",
        "데이터 내의 패턴을 스스로 인지\n",
        "\n",
        "\n",
        "---\n",
        "\n",
        "\n",
        "###머신러닝의 분류:\n",
        "*지도학습: 분류/회귀/추천 시스템/시각/음성감지/인지/텍스분석/NLP\n",
        "\n",
        "*비지도학습:클러스터링/차원 축소/강화학습\n",
        "\n",
        "+단점:데이터에 매우 의존적->'데이터 전쟁'\n",
        "\n",
        "___\n",
        "\n",
        "####파이썬 패키지:\n",
        "머신러닝 패키지:사이킷런 \n",
        "\n",
        "행렬/선형대수/통계 패키지:넘파이(행렬 데이터 특화),사이파이\n",
        "\n",
        "데이터 핸들링:판다스(2차원 데이터 특화)\n",
        "\n",
        "시각화:맷플롯립(효율 떨어짐),시본 \n"
      ],
      "metadata": {
        "id": "rHN2Ma5OIPwr"
      }
    },
    {
      "cell_type": "markdown",
      "source": [
        "##넘파이\n",
        "\n",
        "\n",
        "\n",
        "\n",
        "* 빠른 배열 연산 속도\n",
        "* C/C++과 호환 가능한 API\n",
        "\n",
        "* 2차원 형태의 행과 열\n",
        "\n",
        "* 넘파이 기반 데이터 타입:ndarray\n",
        "\n",
        "* as: 약어 표현\n",
        "\n",
        "* array() :파이썬 의 리스트와 같은 다양한 인자 입력받아 ndarray로 변환 기능 \n",
        "\n",
        " + shape: ndarray의 크기. 행과 열의 수 튜플 형태로 가지고 있음->ndarray의 배열 차원까지 알 수 있다\n",
        "\n",
        "* np.array():ndarray 반환\n",
        "\n",
        "* ndarray.shape :ndarray의 차원의 크기 튜플 형태로 출력 (열,행)"
      ],
      "metadata": {
        "id": "95qdf6szIl7S"
      }
    },
    {
      "cell_type": "code",
      "source": [
        "import numpy as np\n",
        "\n",
        "array1=np.array([1,2,3]) #ndarray로 변환\n",
        "print('array1 type:',type(array1))\n",
        "print('array1 array 형태:',array1.shape)\n",
        "\n",
        "\n",
        "array2=np.array([[1,2,3],\n",
        "                [2,3,4]])\n",
        "print('array2 type:',type(array2))\n",
        "print('array2 array 형태:',array2.shape)\n",
        "\n",
        "\n",
        "array3=np.array([[1,2,3]])\n",
        "print('array3 type:',type(array3))\n",
        "print('array3 array 형태:',array3.shape)"
      ],
      "metadata": {
        "colab": {
          "base_uri": "https://localhost:8080/"
        },
        "id": "6973ZjAyIvxj",
        "outputId": "ed184959-a631-4f1a-cf97-e1b818e591fd"
      },
      "execution_count": null,
      "outputs": [
        {
          "output_type": "stream",
          "name": "stdout",
          "text": [
            "array1 type: <class 'numpy.ndarray'>\n",
            "array1 array 형태: (3,)\n",
            "array2 type: <class 'numpy.ndarray'>\n",
            "array2 array 형태: (2, 3)\n",
            "array3 type: <class 'numpy.ndarray'>\n",
            "array3 array 형태: (1, 3)\n"
          ]
        }
      ]
    },
    {
      "cell_type": "code",
      "source": [
        "print('array1: {:0} 차원, array2: {:1}차원, array3: {:2}차원'.format(array1.ndim,array2.ndim,array3.ndim))"
      ],
      "metadata": {
        "colab": {
          "base_uri": "https://localhost:8080/"
        },
        "id": "kh_5P_OCLZlx",
        "outputId": "d860ca30-61d1-4ea3-f8d9-e4ebb64207a4"
      },
      "execution_count": null,
      "outputs": [
        {
          "output_type": "stream",
          "name": "stdout",
          "text": [
            "array1: 1 차원, array2: 2차원, array3:  2차원\n"
          ]
        }
      ]
    },
    {
      "cell_type": "markdown",
      "source": [
        "[]:1차원 [[]]:2차원\n",
        "\n",
        "###ndarray의 데이터 타입\n",
        "* ndarray 데이터 값: 모두 가능\n",
        "ex)숫자형:int,unsigned int,float,complex\n",
        "\n",
        "* ndarray 내의 데이터 타입: 같은 데이터 타입만 가능\n",
        "\n",
        " -> dtype 통해 데이터 타입 알 수 있다\n",
        " \n",
        " -> 섞이면 더 큰 데이터 타입으로 형 변환 일괄 적용\n",
        "\n",
        "\n",
        "* astype(): ndarray 내 데이터 타입 변경"
      ],
      "metadata": {
        "id": "NRCnJaJlL7u1"
      }
    },
    {
      "cell_type": "code",
      "source": [
        "list1=[1,2,3]\n",
        "print(type(list1))\n",
        "array1=np.array(list1)\n",
        "print(type(array1))\n",
        "print(array1,array1.dtype)"
      ],
      "metadata": {
        "colab": {
          "base_uri": "https://localhost:8080/"
        },
        "id": "3VqbOlCvMB2Q",
        "outputId": "c8bad0ac-63fa-485f-e043-3ec6312d2727"
      },
      "execution_count": null,
      "outputs": [
        {
          "output_type": "stream",
          "name": "stdout",
          "text": [
            "<class 'list'>\n",
            "<class 'numpy.ndarray'>\n",
            "[1 2 3] int64\n"
          ]
        }
      ]
    },
    {
      "cell_type": "markdown",
      "source": [
        "###ndarray 편리하게 생성하기-arange, zeros, ones\n",
        "\n",
        "\n",
        "*arange(): range와 유사. 0~-1까지 index"
      ],
      "metadata": {
        "id": "HmWR-9nFP6U-"
      }
    },
    {
      "cell_type": "code",
      "source": [
        "sequence_array=np.arange(10)\n",
        "print(sequence_array)\n",
        "print(sequence_array.dtype,sequence_array.shape)\n",
        "#교재는 int32로 출력되는데 나는 자꾸 int64로 출력..."
      ],
      "metadata": {
        "colab": {
          "base_uri": "https://localhost:8080/"
        },
        "id": "k08NF1N-Qmqc",
        "outputId": "99dca046-b619-40e2-d34f-889a3e08c1ca"
      },
      "execution_count": null,
      "outputs": [
        {
          "output_type": "stream",
          "name": "stdout",
          "text": [
            "[0 1 2 3 4 5 6 7 8 9]\n",
            "int64 (10,)\n"
          ]
        }
      ]
    },
    {
      "cell_type": "markdown",
      "source": [
        "* zeros(): 함수 인자로 튜플 형태의 shape 값 입력하면 모든 값을 0으로 채운 해당 shape를 가진 ndarray로 반환\n",
        "\n",
        "\n",
        "* ones(): 함수 인자로 튜플 형태의 shape 값을 입력하면 모든 값을 1로 채운 해당 shape를 가진 ndarray를 반환.\n",
        "\n",
        "\n",
        "<font color='blue'>함수 인자로 dtype 정해주지않으면 default로 float64형의 데이터로 ndarray를 채움"
      ],
      "metadata": {
        "id": "F0DxBvLaQmDV"
      }
    },
    {
      "cell_type": "code",
      "source": [
        "one_array=np.ones((3,2))\n",
        "print(one_array)\n",
        "print(one_array.dtype,one_array.shape)"
      ],
      "metadata": {
        "colab": {
          "base_uri": "https://localhost:8080/"
        },
        "id": "zjWOtMVHRoza",
        "outputId": "d2f9c28f-9154-412a-c8a8-8ce6e50e8a57"
      },
      "execution_count": null,
      "outputs": [
        {
          "output_type": "stream",
          "name": "stdout",
          "text": [
            "[[1. 1.]\n",
            " [1. 1.]\n",
            " [1. 1.]]\n",
            "float64 (3, 2)\n"
          ]
        }
      ]
    },
    {
      "cell_type": "markdown",
      "source": [
        "###reshape():ndarray의 차원, 크기 변경\n",
        "\n",
        "reshape(): ndarray를 특정 차원 및 크기로 변환\n",
        "\n",
        "->맞는 사이즈 아니면 오류 발생"
      ],
      "metadata": {
        "id": "pEcwbm-3R_OH"
      }
    },
    {
      "cell_type": "code",
      "source": [
        "array1=np.arange(10)\n",
        "print('array1:\\n',array1)\n",
        "\n",
        "array2=array1.reshape(2,5)\n",
        "print('array2:\\n',array2)"
      ],
      "metadata": {
        "colab": {
          "base_uri": "https://localhost:8080/"
        },
        "id": "sk_tFxMHR-zg",
        "outputId": "36cd188b-56ad-4195-a1f4-f7b401a7ce6e"
      },
      "execution_count": null,
      "outputs": [
        {
          "output_type": "stream",
          "name": "stdout",
          "text": [
            "array1:\n",
            " [0 1 2 3 4 5 6 7 8 9]\n",
            "array2:\n",
            " [[0 1 2 3 4]\n",
            " [5 6 7 8 9]]\n"
          ]
        }
      ]
    },
    {
      "cell_type": "markdown",
      "source": [
        "*-1인자는 reshape(-1,1)와 같은 형태로 사용\n",
        "->반드시 1개의 컬럼 가진 ndarray로 변환"
      ],
      "metadata": {
        "id": "55KQMp8Ico0q"
      }
    },
    {
      "cell_type": "markdown",
      "source": [
        "###인덱싱\n",
        "-특정한 데이터만 추출\n",
        "\n",
        "-슬라이싱[:]\n",
        "\n",
        "-팬시 인덱싱:일정한 인덱싱 집합을 리스트나 ndarray형태로 지정하면, 해당 위치 index에 해당하는 ndarray 반환\n",
        "\n",
        "-불린 인덱싱: T/F 값 인덱싱 집합으로 True 해당하는 인덱스 위치에 있는 데이터의 ndarray 반환\n",
        "조건 필터링과 검색 동시 가능\n",
        "\n",
        "\n",
        "___\n",
        "\n"
      ],
      "metadata": {
        "id": "897PaeOQc8rR"
      }
    },
    {
      "cell_type": "code",
      "source": [
        "array1d=np.arange(start=1,stop=10) #1부터 9 -->방향으로\n",
        "array2d=array1d.reshape(3,3)\n",
        "print(array2d)\n",
        "\n",
        "\n",
        "#특정 값 추출\n",
        "print('(row=0,col=0) index 가리키는 값:',array2d[0,0] )\n",
        "print('(row=2,col=1) index 가리키는 값:',array2d[2,1] )\n",
        "\n",
        "\n",
        "#슬라이싱(row,coloum)\n",
        "print('array2d[0:2,0:2]\\n',array2d[0:2,0:2])\n",
        "print('array2d[:2,1:]\\n',array2d[:2,1:])\n",
        "print('array2d[:2,0]\\n',array2d[:2,0])\n",
        "\n",
        "\n",
        "#팬시 인덱싱\n",
        "array3=array2d[[0,1],2]\n",
        "print('array2d[[0,1],2]=>',array3.tolist())\n",
        "array4=array2d[[0,1],0:2]\n",
        "print('array2d[[0,1],0:2]=>',array4.tolist())\n",
        "\n",
        "\n",
        "#불린 인덱싱\n",
        "array5=array1d[array1d>5]\n",
        "print('array1d>5 불린 인덱싱 결과 값:',array5)\n",
        "array1d>5\n",
        "\n",
        "\n",
        "boolean_indexes=np.array([False, False, False, False, False,  True,  True,  True,  True])\n",
        "array6=array1d[boolean_indexes]\n",
        "print('불린 인덱스로 필터링 결과:',array6)"
      ],
      "metadata": {
        "colab": {
          "base_uri": "https://localhost:8080/"
        },
        "id": "w_0A3TUlePdK",
        "outputId": "a09c89ac-07e1-422f-a6b4-834371808502"
      },
      "execution_count": null,
      "outputs": [
        {
          "output_type": "stream",
          "name": "stdout",
          "text": [
            "[[1 2 3]\n",
            " [4 5 6]\n",
            " [7 8 9]]\n",
            "(row=0,col=0) index 가리키는 값: 1\n",
            "(row=2,col=1) index 가리키는 값: 8\n",
            "array2d[0:2,0:2]\n",
            " [[1 2]\n",
            " [4 5]]\n",
            "array2d[:2,1:]\n",
            " [[2 3]\n",
            " [5 6]]\n",
            "array2d[:2,0]\n",
            " [1 4]\n",
            "array2d[[0,1],2]=> [3, 6]\n",
            "array2d[[0,1],0:2]=> [[1, 2], [4, 5]]\n",
            "array1d>5 불린 인덱싱 결과 값: [6 7 8 9]\n",
            "불린 인덱스로 필터링 결과: [6 7 8 9]\n"
          ]
        }
      ]
    },
    {
      "cell_type": "markdown",
      "source": [
        "---\n",
        "\n",
        "###행렬의 정렬:sort()&argsort()\n",
        "\n",
        "* 행렬 정렬:\n",
        "\n",
        "np.sort()-넘파이에서 sort() 호출\n",
        "\n",
        "<font color='blue'>ex)np.sort('데이터명')\n",
        "\n",
        "\n",
        "원 행렬 보존\n",
        "\n",
        "\n",
        "ndarray.sort()-행렬 자체에서 sort() 호출 \n",
        "\n",
        "<font color='blue'>ex)데이터명.sort()\n",
        "\n",
        "원 행렬 자체가 정렬됨\n",
        "\n",
        "반환값 None\n",
        "\n",
        "\n",
        "=>내림차순 정렬 위해서는 [::-1]\n",
        "\n",
        "axis=0:로우방향\n",
        "\n",
        "axis=1:칼럼방향"
      ],
      "metadata": {
        "id": "icjwdddBo5kY"
      }
    },
    {
      "cell_type": "code",
      "source": [
        "org_array=np.array([3,1,9,5])\n",
        "sort_array1_desc=np.sort(org_array)[::-1]\n",
        "\n",
        "print('내림차순으로 정렬:',sort_array1_desc)\n",
        "\n",
        "\n",
        "array2d=np.array([[8,12],\n",
        "                  [7,1]])\n",
        "\n",
        "sort_array2d_axis0=np.sort(array2d,axis=0)\n",
        "\n",
        "print('로우(행) 방향으로 정렬:\\n',sort_array2d_axis0)\n",
        "\n",
        "sort_array2d_axis1=np.sort(array2d,axis=1)\n",
        "print('칼럼 방향으로 정렬:\\n',sort_array2d_axis1)"
      ],
      "metadata": {
        "colab": {
          "base_uri": "https://localhost:8080/"
        },
        "id": "afWyqHGOo5Sc",
        "outputId": "2c2d22d3-0f76-47b9-e7c9-9f6c70879acf"
      },
      "execution_count": null,
      "outputs": [
        {
          "output_type": "stream",
          "name": "stdout",
          "text": [
            "내림차순으로 정렬: [9 5 3 1]\n",
            "로우(행) 방향으로 정렬:\n",
            " [[ 7  1]\n",
            " [ 8 12]]\n",
            "칼럼 방향으로 정렬:\n",
            " [[ 8 12]\n",
            " [ 1  7]]\n"
          ]
        }
      ]
    },
    {
      "cell_type": "markdown",
      "source": [
        "\n",
        "* 원본 행렬 정렬 시 기존 원본 행렬의 원소가 필요하면 np.argsort() 이용\n",
        "\n",
        "->정렬 행렬의 원본 행렬 인덱스를 ndarray 형으로 반환\n",
        "\n",
        "넘파이의 데이터 추출에 많이 사용\n"
      ],
      "metadata": {
        "id": "5zd88Wfaqq_F"
      }
    },
    {
      "cell_type": "code",
      "source": [
        "org_array=np.array([3,1,9,5])\n",
        "sort_indices=np.argsort(org_array)\n",
        "print(type(sort_indices))\n",
        "print('행렬 정렬 시 원본 행렬의 인덱스:',sort_indices)\n",
        "\n",
        "sort_indices_desc=np.argsort(org_array)[::-1]\n",
        "print('행렬 내림차순 정렬 시 원본 행렬의 인덱스:',sort_indices_desc)\n"
      ],
      "metadata": {
        "colab": {
          "base_uri": "https://localhost:8080/"
        },
        "id": "3egSt1cEsJ88",
        "outputId": "9ec62fef-9cde-4097-a1a7-52ad562d8775"
      },
      "execution_count": null,
      "outputs": [
        {
          "output_type": "stream",
          "name": "stdout",
          "text": [
            "<class 'numpy.ndarray'>\n",
            "행렬 정렬 시 원본 행렬의 인덱스: [1 0 3 2]\n",
            "행렬 내림차순 정렬 시 원본 행렬의 인덱스: [2 3 0 1]\n"
          ]
        }
      ]
    },
    {
      "cell_type": "code",
      "source": [
        "name_array=np.array(['John','Mike','Sarah','Kate','Samuel'])\n",
        "score_array=np.array([78,95,84,98,88])\n",
        "\n",
        "sort_indices_asc=np.argsort(score_array)\n",
        "print('성적 오름차순 정렬 시 score_array의 인덱스:',sort_indices_desc)\n",
        "print('성적 오름차순으로 name_array의 이름 출력:',name_array[sort_indices_desc])"
      ],
      "metadata": {
        "colab": {
          "base_uri": "https://localhost:8080/"
        },
        "id": "_X_0wt53s8o3",
        "outputId": "e73837a2-373d-4540-ef9e-67f19e035d61"
      },
      "execution_count": null,
      "outputs": [
        {
          "output_type": "stream",
          "name": "stdout",
          "text": [
            "성적 오름차순 정렬 시 score_array의 인덱스: [2 3 0 1]\n",
            "성적 오름차순으로 name_array의 이름 출력: ['Sarah' 'Kate' 'John' 'Mike']\n"
          ]
        }
      ]
    },
    {
      "cell_type": "markdown",
      "source": [
        "\n",
        "---\n",
        "##선형대수 연산-행렬 내적과 전치 행렬\n",
        "행렬내적은 행렬 곱\n",
        "두 행렬 A와 B의 내적은 np.dot()활용->왼쪽 행렬의 행과 오른쪽 행렬의 열 원소들을 순차적으로 곱한 뒤 그 결과를 모두 더한 값"
      ],
      "metadata": {
        "id": "t5H2mLhmtkC4"
      }
    },
    {
      "cell_type": "code",
      "source": [
        "A=np.array([[1,2,3],\n",
        "            [4,5,6]])\n",
        "B=np.array([[7,8],\n",
        "            [9,10],\n",
        "            [11,12]])\n",
        "\n",
        "dot_product=np.dot(A,B)\n",
        "print('행렬 내적 결과:\\n',dot_product)"
      ],
      "metadata": {
        "colab": {
          "base_uri": "https://localhost:8080/"
        },
        "id": "GmMEZdmRuu4w",
        "outputId": "5ee7ea1b-8de7-4fbf-b226-6792bfb4e040"
      },
      "execution_count": null,
      "outputs": [
        {
          "output_type": "stream",
          "name": "stdout",
          "text": [
            "행렬 내적 결과:\n",
            " [[ 58  64]\n",
            " [139 154]]\n"
          ]
        }
      ]
    },
    {
      "cell_type": "markdown",
      "source": [
        "전치 행렬: 원 행렬에서 행과 열 위치를 교환한 원소로 구성한 행렬\n",
        "\n",
        "2x2 행렬 A가 있을 경우,A행렬의 1행 2열->2열 1행\n",
        "\n",
        "A의 전치행렬==A**T\n"
      ],
      "metadata": {
        "id": "2hiaRuxkvEm4"
      }
    },
    {
      "cell_type": "code",
      "source": [
        "A=np.array([[1,2],\n",
        "            [3,4]])\n",
        "transpose_mat=np.transpose(A)\n",
        "print('A의 전치 행렬:\\n',transpose_mat)\n"
      ],
      "metadata": {
        "colab": {
          "base_uri": "https://localhost:8080/"
        },
        "id": "-5PKYULVvqH6",
        "outputId": "191b5eb1-d165-4ffc-9e02-cbdba1b6c10f"
      },
      "execution_count": null,
      "outputs": [
        {
          "output_type": "stream",
          "name": "stdout",
          "text": [
            "A의 전치 행렬:\n",
            " [[1 3]\n",
            " [2 4]]\n"
          ]
        }
      ]
    }
  ]
}